{
 "cells": [
  {
   "cell_type": "code",
   "execution_count": 5,
   "id": "dc45abb6",
   "metadata": {},
   "outputs": [],
   "source": [
    "import wandb\n",
    "import torch\n",
    "from model import CNNModel\n",
    "import torch.nn.functional as F\n",
    "from collections import defaultdict\n",
    "from torchvision.utils import make_grid\n",
    "from datamodule import iNaturalistDataModule\n",
    "from torchvision.transforms.functional import to_pil_image\n"
   ]
  },
  {
   "cell_type": "code",
   "execution_count": 2,
   "id": "f3a36313",
   "metadata": {},
   "outputs": [],
   "source": [
    "ckpt_path = \"./checkpoints/train_run_LR_0.0001_DATAUG:True_FILTERS:64_FILTERSIZE:5_FILTERORG:double_ACTIVATION:Mish_BATCHNORM:True_DROPOUT:0.3_DENSE:32.ckpt\"\n",
    "model = CNNModel.load_from_checkpoint(ckpt_path)"
   ]
  },
  {
   "cell_type": "code",
   "execution_count": 3,
   "id": "1ae17198",
   "metadata": {},
   "outputs": [],
   "source": [
    "data_module = iNaturalistDataModule(\n",
    "    image_dim=224,\n",
    "    val_split=0.2,\n",
    "    data_augmentation=True,\n",
    "    batch_size=256,\n",
    "    num_workers=32,\n",
    ")\n",
    "data_module.prepare_data()\n",
    "data_module.setup()"
   ]
  },
  {
   "cell_type": "code",
   "execution_count": 6,
   "id": "695ee266",
   "metadata": {},
   "outputs": [],
   "source": [
    "class_images = defaultdict(list)\n",
    "\n",
    "# Iterate through the test loader to accumulate images\n",
    "test_loader = data_module.test_dataloader()\n",
    "for batch_images, batch_labels in test_loader:\n",
    "    for img, label in zip(batch_images, batch_labels):\n",
    "        if len(class_images[label.item()]) < 3:  # Only add if we need more images for this class\n",
    "            class_images[label.item()].append(img)\n",
    "    \n",
    "    # Check if we have 3 images for each class\n",
    "    if all(len(class_images[class_idx]) >= 3 for class_idx in range(10)):  # Assuming 10 classes\n",
    "        break\n",
    "\n",
    "# Select exactly 3 images for each class\n",
    "selected_images = []\n",
    "selected_labels = []\n",
    "for class_idx in range(10):  # Assuming there are 10 classes\n",
    "    selected = class_images[class_idx][:3]  # Take the first 3 images for the class\n",
    "    selected_images.extend(selected)\n",
    "    selected_labels.extend([class_idx] * len(selected))\n",
    "\n",
    "# Convert the selected images and labels to tensors\n",
    "images = torch.stack(selected_images)\n",
    "labels = torch.tensor(selected_labels)"
   ]
  },
  {
   "cell_type": "code",
   "execution_count": 7,
   "id": "2389896c",
   "metadata": {},
   "outputs": [],
   "source": [
    "device = torch.device(\"cuda:2\" if torch.cuda.is_available() else \"cpu\")\n",
    "images = images.to(device)\n",
    "model = model.to(device)"
   ]
  },
  {
   "cell_type": "code",
   "execution_count": 8,
   "id": "a70c195d",
   "metadata": {},
   "outputs": [],
   "source": [
    "class_to_idx = data_module.test_dataset.class_to_idx  # Access the original dataset\n",
    "idx_to_class = {v: k for k, v in class_to_idx.items()}  # Reverse the mapping to get index-to-class"
   ]
  },
  {
   "cell_type": "code",
   "execution_count": 9,
   "id": "9046378d",
   "metadata": {},
   "outputs": [],
   "source": [
    "def denormalize(img_tensor, mean, std, device):\n",
    "    mean = torch.tensor(mean, device=device).view(1, 3, 1, 1)  # Reshape for broadcasting and move to device\n",
    "    std = torch.tensor(std, device=device).view(1, 3, 1, 1)    # Reshape for broadcasting and move to device\n",
    "    return img_tensor * std + mean\n",
    "\n",
    "# Reverse normalization before converting to PIL image\n",
    "mean = [0.5, 0.5, 0.5]\n",
    "std = [0.2, 0.2, 0.2]\n",
    "\n",
    "# Perform inference\n",
    "model.eval()\n",
    "with torch.no_grad():\n",
    "    outputs = model(images)\n",
    "    predictions = torch.argmax(F.softmax(outputs, dim=1), dim=1)"
   ]
  },
  {
   "cell_type": "code",
   "execution_count": 15,
   "id": "9f7ba3eb",
   "metadata": {},
   "outputs": [],
   "source": [
    "# Create a grid of images with predictions\n",
    "grid = []\n",
    "for img, label, pred in zip(images, labels, predictions):\n",
    "    img = denormalize(img.unsqueeze(0), mean, std, device).squeeze(0)  # Denormalize the image\n",
    "    img = to_pil_image(img.cpu().clamp(0, 1))  # Convert tensor to PIL image and clamp values to [0, 1]\n",
    "    true_class = idx_to_class[label.item()]  # Get the true class name\n",
    "    pred_class = idx_to_class[pred.item()]  # Get the predicted class name\n",
    "    caption = f\"True: {true_class}, Pred: {pred_class}\"\n",
    "    grid.append(wandb.Image(img, caption=caption))\n"
   ]
  },
  {
   "cell_type": "code",
   "execution_count": 16,
   "id": "364b3c8e",
   "metadata": {},
   "outputs": [
    {
     "data": {
      "text/html": [],
      "text/plain": [
       "<IPython.core.display.HTML object>"
      ]
     },
     "metadata": {},
     "output_type": "display_data"
    },
    {
     "data": {
      "text/html": [
       " View run <strong style=\"color:#cdcd00\">test_images_predictions</strong> at: <a href='https://wandb.ai/starkahmed43/DA6401_A2/runs/9c4mbvfm' target=\"_blank\">https://wandb.ai/starkahmed43/DA6401_A2/runs/9c4mbvfm</a><br> View project at: <a href='https://wandb.ai/starkahmed43/DA6401_A2' target=\"_blank\">https://wandb.ai/starkahmed43/DA6401_A2</a><br>Synced 5 W&B file(s), 0 media file(s), 0 artifact file(s) and 0 other file(s)"
      ],
      "text/plain": [
       "<IPython.core.display.HTML object>"
      ]
     },
     "metadata": {},
     "output_type": "display_data"
    },
    {
     "data": {
      "text/html": [
       "Find logs at: <code>./wandb/run-20250419_210849-9c4mbvfm/logs</code>"
      ],
      "text/plain": [
       "<IPython.core.display.HTML object>"
      ]
     },
     "metadata": {},
     "output_type": "display_data"
    },
    {
     "data": {
      "text/html": [
       "Tracking run with wandb version 0.19.9"
      ],
      "text/plain": [
       "<IPython.core.display.HTML object>"
      ]
     },
     "metadata": {},
     "output_type": "display_data"
    },
    {
     "data": {
      "text/html": [
       "Run data is saved locally in <code>/home/adil_a/github/DA24S023_DA6401_A2/Part_1/wandb/run-20250419_210855-xmwztrex</code>"
      ],
      "text/plain": [
       "<IPython.core.display.HTML object>"
      ]
     },
     "metadata": {},
     "output_type": "display_data"
    },
    {
     "data": {
      "text/html": [
       "Syncing run <strong><a href='https://wandb.ai/starkahmed43/DA6401_A2/runs/xmwztrex' target=\"_blank\">test_images_predictions</a></strong> to <a href='https://wandb.ai/starkahmed43/DA6401_A2' target=\"_blank\">Weights & Biases</a> (<a href='https://wandb.me/developer-guide' target=\"_blank\">docs</a>)<br>"
      ],
      "text/plain": [
       "<IPython.core.display.HTML object>"
      ]
     },
     "metadata": {},
     "output_type": "display_data"
    },
    {
     "data": {
      "text/html": [
       " View project at <a href='https://wandb.ai/starkahmed43/DA6401_A2' target=\"_blank\">https://wandb.ai/starkahmed43/DA6401_A2</a>"
      ],
      "text/plain": [
       "<IPython.core.display.HTML object>"
      ]
     },
     "metadata": {},
     "output_type": "display_data"
    },
    {
     "data": {
      "text/html": [
       " View run at <a href='https://wandb.ai/starkahmed43/DA6401_A2/runs/xmwztrex' target=\"_blank\">https://wandb.ai/starkahmed43/DA6401_A2/runs/xmwztrex</a>"
      ],
      "text/plain": [
       "<IPython.core.display.HTML object>"
      ]
     },
     "metadata": {},
     "output_type": "display_data"
    },
    {
     "data": {
      "text/html": [
       "<button onClick=\"this.nextSibling.style.display='block';this.style.display='none';\">Display W&B run</button><iframe src='https://wandb.ai/starkahmed43/DA6401_A2/runs/xmwztrex?jupyter=true' style='border:none;width:100%;height:420px;display:none;'></iframe>"
      ],
      "text/plain": [
       "<wandb.sdk.wandb_run.Run at 0x71cbc79ccd10>"
      ]
     },
     "execution_count": 16,
     "metadata": {},
     "output_type": "execute_result"
    }
   ],
   "source": [
    "wandb.init(project=\"DA6401_A2\", name=\"test_images_predictions\")"
   ]
  },
  {
   "cell_type": "code",
   "execution_count": 17,
   "id": "649f7f32",
   "metadata": {},
   "outputs": [],
   "source": [
    "wandb.log({\"Sample Test Predictions\": grid})"
   ]
  },
  {
   "cell_type": "code",
   "execution_count": null,
   "id": "5c8cc236",
   "metadata": {},
   "outputs": [
    {
     "name": "stdout",
     "output_type": "stream",
     "text": [
      "Total Trainable Parameters: 4710250\n"
     ]
    }
   ],
   "source": [
    "def count_parameters(model):\n",
    "    return sum(p.numel() for p in model.parameters() if p.requires_grad)\n",
    "\n",
    "print(f\"Total Trainable Parameters: {count_parameters(model)}\")"
   ]
  },
  {
   "cell_type": "code",
   "execution_count": null,
   "id": "26a3853e",
   "metadata": {},
   "outputs": [
    {
     "name": "stdout",
     "output_type": "stream",
     "text": [
      "MACs: 7.01 GMac\n",
      "Parameters: 4.71 M\n"
     ]
    }
   ],
   "source": [
    "from ptflops import get_model_complexity_info\n",
    "\n",
    "# If your LightningModule wraps the actual model inside `self.model`, change this accordingly\n",
    "with torch.no_grad():\n",
    "    macs, params = get_model_complexity_info(model, (3, 224, 224), as_strings=True, print_per_layer_stat=False)\n",
    "    print(f\"MACs: {macs}\")\n",
    "    print(f\"Parameters: {params}\")"
   ]
  },
  {
   "cell_type": "code",
   "execution_count": 18,
   "id": "66a8b3a4",
   "metadata": {},
   "outputs": [
    {
     "name": "stderr",
     "output_type": "stream",
     "text": [
      "\u001b[34m\u001b[1mwandb\u001b[0m: \u001b[32m\u001b[41mERROR\u001b[0m The nbformat package was not found. It is required to save notebook history.\n"
     ]
    },
    {
     "data": {
      "text/html": [],
      "text/plain": [
       "<IPython.core.display.HTML object>"
      ]
     },
     "metadata": {},
     "output_type": "display_data"
    },
    {
     "data": {
      "text/html": [
       " View run <strong style=\"color:#cdcd00\">test_images_predictions</strong> at: <a href='https://wandb.ai/starkahmed43/DA6401_A2/runs/xmwztrex' target=\"_blank\">https://wandb.ai/starkahmed43/DA6401_A2/runs/xmwztrex</a><br> View project at: <a href='https://wandb.ai/starkahmed43/DA6401_A2' target=\"_blank\">https://wandb.ai/starkahmed43/DA6401_A2</a><br>Synced 5 W&B file(s), 30 media file(s), 0 artifact file(s) and 0 other file(s)"
      ],
      "text/plain": [
       "<IPython.core.display.HTML object>"
      ]
     },
     "metadata": {},
     "output_type": "display_data"
    },
    {
     "data": {
      "text/html": [
       "Find logs at: <code>./wandb/run-20250419_210855-xmwztrex/logs</code>"
      ],
      "text/plain": [
       "<IPython.core.display.HTML object>"
      ]
     },
     "metadata": {},
     "output_type": "display_data"
    }
   ],
   "source": [
    "wandb.finish()"
   ]
  }
 ],
 "metadata": {
  "kernelspec": {
   "display_name": "da6401",
   "language": "python",
   "name": "python3"
  },
  "language_info": {
   "codemirror_mode": {
    "name": "ipython",
    "version": 3
   },
   "file_extension": ".py",
   "mimetype": "text/x-python",
   "name": "python",
   "nbconvert_exporter": "python",
   "pygments_lexer": "ipython3",
   "version": "3.12.9"
  }
 },
 "nbformat": 4,
 "nbformat_minor": 5
}
